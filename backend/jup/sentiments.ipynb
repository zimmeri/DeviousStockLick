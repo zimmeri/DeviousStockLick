{
 "cells": [
  {
   "cell_type": "markdown",
   "id": "ffd8a0b3",
   "metadata": {},
   "source": [
    "## DEPENDANT ON TWITTERFINGERS AND NEWSSTORIES"
   ]
  },
  {
   "cell_type": "code",
   "execution_count": 1,
   "id": "4d0b2a1c",
   "metadata": {},
   "outputs": [],
   "source": [
    "import datetime\n",
    "import pandas as pd\n",
    "import numpy as np\n",
    "from transformers import AutoTokenizer, AutoModelForSequenceClassification, pipeline"
   ]
  },
  {
   "cell_type": "code",
   "execution_count": 2,
   "id": "6aaa738e",
   "metadata": {},
   "outputs": [],
   "source": [
    "def getTargets():\n",
    "    targets = pd.read_csv('targetSp.csv')\n",
    "    return targets.Symbol.to_numpy()"
   ]
  },
  {
   "cell_type": "code",
   "execution_count": 3,
   "id": "1e9a0fde",
   "metadata": {},
   "outputs": [],
   "source": [
    "def getTweets():\n",
    "    return pd.read_csv('data/' +(datetime.date.today() + datetime.timedelta(days=1)).strftime('%Y-%m-%d') + '/tweets.csv')"
   ]
  },
  {
   "cell_type": "code",
   "execution_count": 4,
   "id": "0bafa726",
   "metadata": {},
   "outputs": [],
   "source": [
    "def getHeadlines():\n",
    "    return pd.read_csv('data/' +(datetime.date.today() + datetime.timedelta(days=1)).strftime('%Y-%m-%d') + '/headlines.csv')"
   ]
  },
  {
   "cell_type": "code",
   "execution_count": 5,
   "id": "2b2748ee",
   "metadata": {},
   "outputs": [],
   "source": [
    "def getPipe():\n",
    "    tokenizer = AutoTokenizer.from_pretrained(\"mrm8488/distilroberta-finetuned-financial-news-sentiment-analysis\")\n",
    "    model = AutoModelForSequenceClassification.from_pretrained(\"mrm8488/distilroberta-finetuned-financial-news-sentiment-analysis\")\n",
    "    pipe = pipeline(\"sentiment-analysis\", model=model, tokenizer=tokenizer)\n",
    "    return pipe"
   ]
  },
  {
   "cell_type": "code",
   "execution_count": 6,
   "id": "18520416",
   "metadata": {},
   "outputs": [],
   "source": [
    "def getSentiments(data, pipe, column, typ):\n",
    "    sent = pd.DataFrame(columns=['target','label','score'])\n",
    "    for row in data.iterrows():\n",
    "        try:\n",
    "            out = pipe(row[1][column])[0]\n",
    "            out['target'] = row[1]['target']\n",
    "            out['type'] = typ\n",
    "            sent = sent.append(out, ignore_index=True)\n",
    "        except:\n",
    "            continue\n",
    "    return sent"
   ]
  },
  {
   "cell_type": "code",
   "execution_count": 7,
   "id": "54e7da33",
   "metadata": {},
   "outputs": [],
   "source": [
    "def runDaily():\n",
    "    targets = getTargets()\n",
    "    pipe = getPipe()\n",
    "    tweets = getTweets()\n",
    "    headlines= getHeadlines()\n",
    "    sentiments = pd.DataFrame()\n",
    "    sentiments = sentiments.append(getSentiments(tweets,pipe,'text', 'tweet'))\n",
    "    sentiments = sentiments.append(getSentiments(headlines, pipe, 'Headline', 'headline'))\n",
    "    sentiments = sentiments.reset_index(drop=True)\n",
    "    sentiments.to_csv('data/' +(datetime.date.today() + datetime.timedelta(days=1)).strftime('%Y-%m-%d') + '/sentiments.csv')\n",
    "    return sentiments"
   ]
  },
  {
   "cell_type": "code",
   "execution_count": 8,
   "id": "877e3132",
   "metadata": {},
   "outputs": [
    {
     "data": {
      "text/html": [
       "<div>\n",
       "<style scoped>\n",
       "    .dataframe tbody tr th:only-of-type {\n",
       "        vertical-align: middle;\n",
       "    }\n",
       "\n",
       "    .dataframe tbody tr th {\n",
       "        vertical-align: top;\n",
       "    }\n",
       "\n",
       "    .dataframe thead th {\n",
       "        text-align: right;\n",
       "    }\n",
       "</style>\n",
       "<table border=\"1\" class=\"dataframe\">\n",
       "  <thead>\n",
       "    <tr style=\"text-align: right;\">\n",
       "      <th></th>\n",
       "      <th>target</th>\n",
       "      <th>label</th>\n",
       "      <th>score</th>\n",
       "      <th>type</th>\n",
       "    </tr>\n",
       "  </thead>\n",
       "  <tbody>\n",
       "    <tr>\n",
       "      <th>0</th>\n",
       "      <td>CSCO</td>\n",
       "      <td>neutral</td>\n",
       "      <td>0.999867</td>\n",
       "      <td>tweet</td>\n",
       "    </tr>\n",
       "    <tr>\n",
       "      <th>1</th>\n",
       "      <td>CSCO</td>\n",
       "      <td>neutral</td>\n",
       "      <td>0.999851</td>\n",
       "      <td>tweet</td>\n",
       "    </tr>\n",
       "    <tr>\n",
       "      <th>2</th>\n",
       "      <td>CSCO</td>\n",
       "      <td>neutral</td>\n",
       "      <td>0.990066</td>\n",
       "      <td>tweet</td>\n",
       "    </tr>\n",
       "    <tr>\n",
       "      <th>3</th>\n",
       "      <td>CSCO</td>\n",
       "      <td>neutral</td>\n",
       "      <td>0.999824</td>\n",
       "      <td>tweet</td>\n",
       "    </tr>\n",
       "    <tr>\n",
       "      <th>4</th>\n",
       "      <td>CSCO</td>\n",
       "      <td>neutral</td>\n",
       "      <td>0.999573</td>\n",
       "      <td>tweet</td>\n",
       "    </tr>\n",
       "    <tr>\n",
       "      <th>...</th>\n",
       "      <td>...</td>\n",
       "      <td>...</td>\n",
       "      <td>...</td>\n",
       "      <td>...</td>\n",
       "    </tr>\n",
       "    <tr>\n",
       "      <th>513</th>\n",
       "      <td>SEE</td>\n",
       "      <td>neutral</td>\n",
       "      <td>0.999818</td>\n",
       "      <td>headline</td>\n",
       "    </tr>\n",
       "    <tr>\n",
       "      <th>514</th>\n",
       "      <td>SEE</td>\n",
       "      <td>neutral</td>\n",
       "      <td>0.999522</td>\n",
       "      <td>headline</td>\n",
       "    </tr>\n",
       "    <tr>\n",
       "      <th>515</th>\n",
       "      <td>SEE</td>\n",
       "      <td>neutral</td>\n",
       "      <td>0.999876</td>\n",
       "      <td>headline</td>\n",
       "    </tr>\n",
       "    <tr>\n",
       "      <th>516</th>\n",
       "      <td>SEE</td>\n",
       "      <td>neutral</td>\n",
       "      <td>0.999869</td>\n",
       "      <td>headline</td>\n",
       "    </tr>\n",
       "    <tr>\n",
       "      <th>517</th>\n",
       "      <td>SEE</td>\n",
       "      <td>positive</td>\n",
       "      <td>0.999591</td>\n",
       "      <td>headline</td>\n",
       "    </tr>\n",
       "  </tbody>\n",
       "</table>\n",
       "<p>518 rows × 4 columns</p>\n",
       "</div>"
      ],
      "text/plain": [
       "    target     label     score      type\n",
       "0     CSCO   neutral  0.999867     tweet\n",
       "1     CSCO   neutral  0.999851     tweet\n",
       "2     CSCO   neutral  0.990066     tweet\n",
       "3     CSCO   neutral  0.999824     tweet\n",
       "4     CSCO   neutral  0.999573     tweet\n",
       "..     ...       ...       ...       ...\n",
       "513    SEE   neutral  0.999818  headline\n",
       "514    SEE   neutral  0.999522  headline\n",
       "515    SEE   neutral  0.999876  headline\n",
       "516    SEE   neutral  0.999869  headline\n",
       "517    SEE  positive  0.999591  headline\n",
       "\n",
       "[518 rows x 4 columns]"
      ]
     },
     "execution_count": 8,
     "metadata": {},
     "output_type": "execute_result"
    }
   ],
   "source": [
    "data = runDaily()\n",
    "data"
   ]
  },
  {
   "cell_type": "code",
   "execution_count": null,
   "id": "06401987",
   "metadata": {},
   "outputs": [],
   "source": []
  },
  {
   "cell_type": "code",
   "execution_count": null,
   "id": "1360866a",
   "metadata": {},
   "outputs": [],
   "source": []
  },
  {
   "cell_type": "code",
   "execution_count": null,
   "id": "593a33cf",
   "metadata": {},
   "outputs": [],
   "source": []
  }
 ],
 "metadata": {
  "kernelspec": {
   "display_name": "Python 3",
   "language": "python",
   "name": "python3"
  },
  "language_info": {
   "codemirror_mode": {
    "name": "ipython",
    "version": 3
   },
   "file_extension": ".py",
   "mimetype": "text/x-python",
   "name": "python",
   "nbconvert_exporter": "python",
   "pygments_lexer": "ipython3",
   "version": "3.8.8"
  }
 },
 "nbformat": 4,
 "nbformat_minor": 5
}
